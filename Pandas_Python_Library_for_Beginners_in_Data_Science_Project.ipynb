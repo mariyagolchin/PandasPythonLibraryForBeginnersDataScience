{
  "nbformat": 4,
  "nbformat_minor": 0,
  "metadata": {
    "colab": {
      "name": "Pandas Python Library for Beginners in Data Science Project.ipynb",
      "provenance": [],
      "collapsed_sections": [],
      "authorship_tag": "ABX9TyNWotSJ84Shat324yZzLeH2",
      "include_colab_link": true
    },
    "kernelspec": {
      "name": "python3",
      "display_name": "Python 3"
    }
  },
  "cells": [
    {
      "cell_type": "markdown",
      "metadata": {
        "id": "view-in-github",
        "colab_type": "text"
      },
      "source": [
        "<a href=\"https://colab.research.google.com/github/mariyagolchin/PandasPythonLibraryForBeginnersDataScience/blob/main/Pandas_Python_Library_for_Beginners_in_Data_Science_Project.ipynb\" target=\"_parent\"><img src=\"https://colab.research.google.com/assets/colab-badge.svg\" alt=\"Open In Colab\"/></a>"
      ]
    },
    {
      "cell_type": "markdown",
      "metadata": {
        "id": "zXL61UZrx8Z8"
      },
      "source": [
        "Pandas Python Library for Beginners in Data Science\n",
        "Now we will begin our journey of mastering pandas by completing each task in this project:\n",
        "\n",
        "Task 1 - Introduction\n",
        "Task 2 - Creating Pandas Series\n",
        "Task 3 - Creating DataFrames in Pandas\n",
        "Task 4 - Importing/Exporting Data\n",
        "Task 5 - Viewing Data and Basic Cleaning\n",
        "Task 6 - Numeric Operations\n",
        "Task 7 - String Operations 1\n",
        "Task 8 - String Operations 2"
      ]
    },
    {
      "cell_type": "code",
      "metadata": {
        "colab": {
          "base_uri": "https://localhost:8080/"
        },
        "id": "9008zDx40yv0",
        "outputId": "a15ecea8-5d50-40a6-b008-c79464919ca8"
      },
      "source": [
        "# creating Series\n",
        "\n",
        "import numpy as np\n",
        "import pandas as pd\n",
        "s=([1, np.nan,'Pandas Library'])\n",
        "s1= pd.Series(s)\n",
        "print(s1)"
      ],
      "execution_count": 2,
      "outputs": [
        {
          "output_type": "stream",
          "text": [
            "0                 1\n",
            "1               NaN\n",
            "2    Pandas Library\n",
            "dtype: object\n"
          ],
          "name": "stdout"
        }
      ]
    },
    {
      "cell_type": "code",
      "metadata": {
        "colab": {
          "base_uri": "https://localhost:8080/"
        },
        "id": "Y5TYhW-h10Oq",
        "outputId": "e2fe159d-5c08-417f-ae66-55d4559020fa"
      },
      "source": [
        "# creating Series Using array\n",
        "\n",
        "s2= np.array([2, np.nan,'b'])\n",
        "s2=pd.Series(s2)\n",
        "print(s2)"
      ],
      "execution_count": 4,
      "outputs": [
        {
          "output_type": "stream",
          "text": [
            "0      2\n",
            "1    nan\n",
            "2      b\n",
            "dtype: object\n"
          ],
          "name": "stdout"
        }
      ]
    },
    {
      "cell_type": "code",
      "metadata": {
        "colab": {
          "base_uri": "https://localhost:8080/"
        },
        "id": "ACnvifAE2cKH",
        "outputId": "f1c17ad6-e711-4439-b3f1-d82e15b814ae"
      },
      "source": [
        "#  creating Series Using List\n",
        "list1 = ['anima1','2','animal']\n",
        "list1=pd.Series(list1)\n",
        "print(list1)"
      ],
      "execution_count": 5,
      "outputs": [
        {
          "output_type": "stream",
          "text": [
            "0    anima1\n",
            "1         2\n",
            "2    animal\n",
            "dtype: object\n"
          ],
          "name": "stdout"
        }
      ]
    },
    {
      "cell_type": "code",
      "metadata": {
        "colab": {
          "base_uri": "https://localhost:8080/"
        },
        "id": "r_cJHmYY3Dr3",
        "outputId": "f1003074-ed9c-4177-dbcb-b9a2342d1f9f"
      },
      "source": [
        "#  creating Series Using Dictionary\n",
        "s= pd.Series({'A':1, '3':'Python'})\n",
        "print(s)"
      ],
      "execution_count": 6,
      "outputs": [
        {
          "output_type": "stream",
          "text": [
            "A         1\n",
            "3    Python\n",
            "dtype: object\n"
          ],
          "name": "stdout"
        }
      ]
    },
    {
      "cell_type": "markdown",
      "metadata": {
        "id": "P1_0LoIe33BH"
      },
      "source": [
        "**Combining series** creates **Data Frames**\n",
        "\n",
        "1.   Passing a Numpy Array\n",
        "2.   Passing a dictionary of objects\n",
        "\n"
      ]
    },
    {
      "cell_type": "code",
      "metadata": {
        "colab": {
          "base_uri": "https://localhost:8080/"
        },
        "id": "S83vtTq-5bEh",
        "outputId": "eca6b6df-70ca-417c-f3d4-85a15178998c"
      },
      "source": [
        "#  creates Data Frames by Passing a Numpy Array\n",
        "\n",
        "df =  pd.DataFrame(np.random.rand(6,4))\n",
        "print(df)"
      ],
      "execution_count": 9,
      "outputs": [
        {
          "output_type": "stream",
          "text": [
            "          0         1         2         3\n",
            "0  0.558007  0.014304  0.398893  0.974694\n",
            "1  0.323181  0.548369  0.213489  0.397035\n",
            "2  0.726403  0.268353  0.407270  0.755263\n",
            "3  0.561069  0.811091  0.761320  0.502281\n",
            "4  0.024314  0.084772  0.329716  0.547054\n",
            "5  0.780061  0.242237  0.234083  0.232305\n"
          ],
          "name": "stdout"
        }
      ]
    },
    {
      "cell_type": "code",
      "metadata": {
        "colab": {
          "base_uri": "https://localhost:8080/",
          "height": 80
        },
        "id": "NbrPCo6J6TTa",
        "outputId": "8f10f625-da09-4173-f58b-00e024636dd0"
      },
      "source": [
        "#  creates Data Frames by Passing a dictionary of objects\n",
        "a = 1\n",
        "b = 2\n",
        "# c = 3\n",
        "df2 = pd.DataFrame({'A':[a] , 'B':[b] ,'C':[4]})\n",
        "df2"
      ],
      "execution_count": 21,
      "outputs": [
        {
          "output_type": "execute_result",
          "data": {
            "text/html": [
              "<div>\n",
              "<style scoped>\n",
              "    .dataframe tbody tr th:only-of-type {\n",
              "        vertical-align: middle;\n",
              "    }\n",
              "\n",
              "    .dataframe tbody tr th {\n",
              "        vertical-align: top;\n",
              "    }\n",
              "\n",
              "    .dataframe thead th {\n",
              "        text-align: right;\n",
              "    }\n",
              "</style>\n",
              "<table border=\"1\" class=\"dataframe\">\n",
              "  <thead>\n",
              "    <tr style=\"text-align: right;\">\n",
              "      <th></th>\n",
              "      <th>A</th>\n",
              "      <th>B</th>\n",
              "      <th>C</th>\n",
              "    </tr>\n",
              "  </thead>\n",
              "  <tbody>\n",
              "    <tr>\n",
              "      <th>0</th>\n",
              "      <td>1</td>\n",
              "      <td>2</td>\n",
              "      <td>4</td>\n",
              "    </tr>\n",
              "  </tbody>\n",
              "</table>\n",
              "</div>"
            ],
            "text/plain": [
              "   A  B  C\n",
              "0  1  2  4"
            ]
          },
          "metadata": {
            "tags": []
          },
          "execution_count": 21
        }
      ]
    },
    {
      "cell_type": "code",
      "metadata": {
        "colab": {
          "base_uri": "https://localhost:8080/"
        },
        "id": "nmaAgTbK8ZsC",
        "outputId": "a8bcf174-89b3-4d82-adc0-e4c69f75dea6"
      },
      "source": [
        "#  creates Data Frames by Passing a dictionary of objects\n",
        "df3= pd.DataFrame({'E':np.array([4]*5, dtype='int32'),\n",
        "                   'Day': 2}),\n",
        "print(df3)"
      ],
      "execution_count": 22,
      "outputs": [
        {
          "output_type": "stream",
          "text": [
            "(   E  Day\n",
            "0  4    2\n",
            "1  4    2\n",
            "2  4    2\n",
            "3  4    2\n",
            "4  4    2,)\n"
          ],
          "name": "stdout"
        }
      ]
    },
    {
      "cell_type": "code",
      "metadata": {
        "colab": {
          "base_uri": "https://localhost:8080/",
          "height": 142
        },
        "id": "hjtC-LEoEDdj",
        "outputId": "e28a18c7-69fd-4433-91f1-be7162a225f2"
      },
      "source": [
        "# Import Files\n",
        "\n",
        "df4= pd.read_csv('https://raw.githubusercontent.com/mwaskom/seaborn-data/master/diamonds.csv')\n",
        "# df4.head()\n",
        "df4.head(3)"
      ],
      "execution_count": 24,
      "outputs": [
        {
          "output_type": "execute_result",
          "data": {
            "text/html": [
              "<div>\n",
              "<style scoped>\n",
              "    .dataframe tbody tr th:only-of-type {\n",
              "        vertical-align: middle;\n",
              "    }\n",
              "\n",
              "    .dataframe tbody tr th {\n",
              "        vertical-align: top;\n",
              "    }\n",
              "\n",
              "    .dataframe thead th {\n",
              "        text-align: right;\n",
              "    }\n",
              "</style>\n",
              "<table border=\"1\" class=\"dataframe\">\n",
              "  <thead>\n",
              "    <tr style=\"text-align: right;\">\n",
              "      <th></th>\n",
              "      <th>carat</th>\n",
              "      <th>cut</th>\n",
              "      <th>color</th>\n",
              "      <th>clarity</th>\n",
              "      <th>depth</th>\n",
              "      <th>table</th>\n",
              "      <th>price</th>\n",
              "      <th>x</th>\n",
              "      <th>y</th>\n",
              "      <th>z</th>\n",
              "    </tr>\n",
              "  </thead>\n",
              "  <tbody>\n",
              "    <tr>\n",
              "      <th>0</th>\n",
              "      <td>0.23</td>\n",
              "      <td>Ideal</td>\n",
              "      <td>E</td>\n",
              "      <td>SI2</td>\n",
              "      <td>61.5</td>\n",
              "      <td>55.0</td>\n",
              "      <td>326</td>\n",
              "      <td>3.95</td>\n",
              "      <td>3.98</td>\n",
              "      <td>2.43</td>\n",
              "    </tr>\n",
              "    <tr>\n",
              "      <th>1</th>\n",
              "      <td>0.21</td>\n",
              "      <td>Premium</td>\n",
              "      <td>E</td>\n",
              "      <td>SI1</td>\n",
              "      <td>59.8</td>\n",
              "      <td>61.0</td>\n",
              "      <td>326</td>\n",
              "      <td>3.89</td>\n",
              "      <td>3.84</td>\n",
              "      <td>2.31</td>\n",
              "    </tr>\n",
              "    <tr>\n",
              "      <th>2</th>\n",
              "      <td>0.23</td>\n",
              "      <td>Good</td>\n",
              "      <td>E</td>\n",
              "      <td>VS1</td>\n",
              "      <td>56.9</td>\n",
              "      <td>65.0</td>\n",
              "      <td>327</td>\n",
              "      <td>4.05</td>\n",
              "      <td>4.07</td>\n",
              "      <td>2.31</td>\n",
              "    </tr>\n",
              "  </tbody>\n",
              "</table>\n",
              "</div>"
            ],
            "text/plain": [
              "   carat      cut color clarity  depth  table  price     x     y     z\n",
              "0   0.23    Ideal     E     SI2   61.5   55.0    326  3.95  3.98  2.43\n",
              "1   0.21  Premium     E     SI1   59.8   61.0    326  3.89  3.84  2.31\n",
              "2   0.23     Good     E     VS1   56.9   65.0    327  4.05  4.07  2.31"
            ]
          },
          "metadata": {
            "tags": []
          },
          "execution_count": 24
        }
      ]
    },
    {
      "cell_type": "code",
      "metadata": {
        "id": "-nia-cwfFJP3"
      },
      "source": [
        "# df5 = pd.read_json(url)\n",
        "# df5.head()"
      ],
      "execution_count": 26,
      "outputs": []
    },
    {
      "cell_type": "markdown",
      "metadata": {
        "id": "HZ8exG9NJGSI"
      },
      "source": [
        "Question 5\n",
        "What are the methods used to create a data frame in pandas?\n",
        "\n",
        "-Using a Dictionary.\n",
        "-Using numpy array\n",
        "\n",
        "\n",
        "metodes to creates series in python:\n",
        "-numpy array \n",
        "-dictionary"
      ]
    }
  ]
}